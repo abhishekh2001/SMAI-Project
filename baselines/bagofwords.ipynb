{
 "cells": [
  {
   "cell_type": "code",
   "execution_count": 1,
   "metadata": {
    "cell_id": "00000-3ee7336b-13e7-4bf1-92d4-320d2538502a",
    "deepnote_cell_type": "code",
    "deepnote_to_be_reexecuted": false,
    "execution_millis": 4481,
    "execution_start": 1637429983036,
    "source_hash": "2588eb82",
    "tags": []
   },
   "outputs": [],
   "source": [
    "# Start writing code here...\n",
    "import numpy as np \n",
    "import pandas as pd\n",
    "import collections\n",
    "from sklearn.feature_extraction.text import CountVectorizer\n",
    "import numpy as np\n",
    "from tqdm.notebook import tqdm\n",
    "import pandas as pd\n",
    "import torch\n",
    "import torch.nn as nn\n",
    "import torch.nn.functional as F\n",
    "from torch.utils.data import Dataset, DataLoader\n",
    "import torch.optim as optim\n",
    "from tqdm.notebook import tqdm"
   ]
  },
  {
   "cell_type": "code",
   "execution_count": 2,
   "metadata": {},
   "outputs": [
    {
     "name": "stdout",
     "output_type": "stream",
     "text": [
      "cuda\n"
     ]
    }
   ],
   "source": [
    "device = torch.device('cuda' if torch.cuda.is_available() else 'cpu')\n",
    "print(device)"
   ]
  },
  {
   "cell_type": "code",
   "execution_count": 48,
   "metadata": {},
   "outputs": [],
   "source": [
    "import os\n",
    "os.environ['CUDA_LAUNCH_BLOCKING'] = \"1\""
   ]
  },
  {
   "cell_type": "code",
   "execution_count": 3,
   "metadata": {},
   "outputs": [],
   "source": [
    "rows = pd.read_csv(\"train.csv\")\n",
    "rows_train = rows[:50000]\n",
    "rows_val = rows[50001:55000]"
   ]
  },
  {
   "cell_type": "code",
   "execution_count": 4,
   "metadata": {},
   "outputs": [],
   "source": [
    "rows_train.to_csv('train_dset.csv', index=False)\n",
    "rows_val.to_csv('val_dset.csv', index=False)"
   ]
  },
  {
   "cell_type": "markdown",
   "metadata": {
    "cell_id": "00001-16a803df-2583-4b2e-abd6-e90721d88b66",
    "deepnote_cell_type": "markdown",
    "deepnote_to_be_reexecuted": false,
    "execution_millis": 0,
    "execution_start": 1637429933338,
    "source_hash": "6a5a07ce",
    "tags": []
   },
   "source": [
    "## Dataset"
   ]
  },
  {
   "cell_type": "code",
   "execution_count": 5,
   "metadata": {
    "cell_id": "00001-177a9430-b69e-41fe-b372-68c0d259e88c",
    "deepnote_cell_type": "code",
    "deepnote_to_be_reexecuted": false,
    "execution_millis": 7,
    "execution_start": 1637430015484,
    "source_hash": "7def976f",
    "tags": []
   },
   "outputs": [],
   "source": [
    "class YelpPolarity(Dataset):\n",
    "    def __init__(self, csv_path):\n",
    "        self.data_frame = pd.read_csv(csv_path)\n",
    "    \n",
    "    def __len__(self):\n",
    "        print(len(self.data_frame))\n",
    "        return len(self.data_frame)\n",
    "    \n",
    "    def __getitem__(self, idx):\n",
    "        data_instance = self.data_frame.iloc[idx]\n",
    "        inp_string = data_instance[1]\n",
    "        inp_string = inp_string[:min(char_len, len(inp_string))]\n",
    "        if \"A\" not in alphabet: inp_string = inp_string.lower()\n",
    "            \n",
    "        X_lis = [len(alphabet)] * char_len\n",
    "        X_lis[:len(inp_string)] = [char_map.get(char, len(alphabet)) for char in inp_string]\n",
    "        \n",
    "        X = torch.LongTensor(X_lis)\n",
    "        y = torch.LongTensor([data_instance[0]-1])\n",
    "        return X, y"
   ]
  },
  {
   "cell_type": "code",
   "execution_count": 73,
   "metadata": {},
   "outputs": [],
   "source": [
    "class BagOfWords(Dataset):\n",
    "    def __init__(self, X, y):\n",
    "        self.X = X\n",
    "        self.y = y\n",
    "    \n",
    "    def __len__(self):\n",
    "        return len(self.X)\n",
    "    \n",
    "    def __getitem__(self, idx):\n",
    "        X = torch.LongTensor(self.X[idx])\n",
    "        y = torch.LongTensor([self.y[idx]])\n",
    "        return X, y"
   ]
  },
  {
   "cell_type": "code",
   "execution_count": 6,
   "metadata": {
    "cell_id": "00002-5db5bdd8-bc84-4efb-bb12-9fabdf177376",
    "deepnote_cell_type": "code",
    "deepnote_to_be_reexecuted": false,
    "execution_millis": 6293,
    "execution_start": 1637430015566,
    "source_hash": "80f7bfa",
    "tags": []
   },
   "outputs": [
    {
     "name": "stdout",
     "output_type": "stream",
     "text": [
      "559999\n",
      "559999\n",
      "4999\n",
      "4999\n"
     ]
    }
   ],
   "source": [
    "from sklearn.model_selection import train_test_split\n",
    "alphabet = \"abcdefghijklmnopqrstuvwxyz0123456789-,;.!?:’’’/\\|_@#$%ˆ&*˜‘+-=<>()[]{}\"\n",
    "char_map = {char:idx for idx, char in enumerate(alphabet)}\n",
    "def generate_embedding_matrix(size=len(alphabet)):\n",
    "    return torch.vstack([torch.eye(size), torch.zeros(size)])\n",
    "batch_size = 128\n",
    "char_len = 1014\n",
    "dset_train = YelpPolarity('train.csv')\n",
    "dset_val = YelpPolarity('val_dset.csv')\n",
    "train_loader = torch.utils.data.DataLoader(dset_train, batch_size=batch_size, shuffle=True, num_workers=4)\n",
    "val_loader = torch.utils.data.DataLoader(dset_val, batch_size=batch_size, shuffle=True, num_workers=4)"
   ]
  },
  {
   "cell_type": "code",
   "execution_count": 18,
   "metadata": {},
   "outputs": [],
   "source": [
    "df = pd.read_csv('train.csv')\n",
    "X_sentence = []\n",
    "y = []\n",
    "for i in range(0, 55000):\n",
    "    data_instance = df.iloc[i]\n",
    "    X_sentence.append(data_instance[1])\n",
    "    y.append(data_instance[0] - 1)"
   ]
  },
  {
   "cell_type": "code",
   "execution_count": 19,
   "metadata": {},
   "outputs": [],
   "source": [
    "from sklearn.feature_extraction.text import CountVectorizer\n",
    "vectorizer = CountVectorizer()\n",
    "X = vectorizer.fit_transform(X_sentence)\n",
    "X = X.toarray()"
   ]
  },
  {
   "cell_type": "code",
   "execution_count": 64,
   "metadata": {},
   "outputs": [],
   "source": [
    "from sklearn.model_selection import train_test_split\n",
    "X_train, X_val, y_train, y_val = train_test_split(X, y, test_size=0.1, random_state=42)"
   ]
  },
  {
   "cell_type": "code",
   "execution_count": 74,
   "metadata": {},
   "outputs": [],
   "source": [
    "dset_train = BagOfWords(X_train, y_train)\n",
    "dset_val = BagOfWords(X_val, y_val)\n",
    "train_loader = torch.utils.data.DataLoader(dset_train, batch_size=batch_size, shuffle=True, num_workers=4)\n",
    "val_loader = torch.utils.data.DataLoader(dset_val, batch_size=batch_size, shuffle=True, num_workers=4)"
   ]
  },
  {
   "cell_type": "markdown",
   "metadata": {
    "cell_id": "00004-5872d516-f997-4805-8974-ceb8d35a4dd3",
    "deepnote_cell_type": "markdown",
    "tags": []
   },
   "source": [
    "loader : data loaded training samples \\\n",
    "in_feats: input features \\\n",
    "val_data_loader: validation data loader\n"
   ]
  },
  {
   "cell_type": "markdown",
   "metadata": {
    "cell_id": "00009-e62d08e3-3354-4994-892c-4e6ee4e5fd14",
    "deepnote_cell_type": "markdown",
    "tags": []
   },
   "source": [
    "## Bag of words"
   ]
  },
  {
   "cell_type": "code",
   "execution_count": 27,
   "metadata": {
    "cell_id": "00002-1b0ad482-2c82-4a23-99dd-0027be2ba9a6",
    "deepnote_cell_type": "code",
    "deepnote_to_be_reexecuted": false,
    "execution_millis": 8,
    "execution_start": 1637413196976,
    "source_hash": "9d21e783",
    "tags": []
   },
   "outputs": [],
   "source": [
    "class Model(nn.Module):\n",
    "    def __init__(self, in_feats, out_feats):\n",
    "        super(Model, self).__init__()\n",
    "        self.dropout = nn.Dropout(0.1)\n",
    "        self.linear1 = nn.Linear(in_feats, 16)\n",
    "        self.linear2 = nn.Linear(32, 16)\n",
    "        self.linear3 = nn.Linear(16, 2)\n",
    "        self.l1 = nn.Linear(in_feats, out_feats)\n",
    "    def forward(self, X):\n",
    "        m = nn.Sigmoid()\n",
    "        ans = self.linear1(X)\n",
    "        ans = self.linear3(ans)\n",
    "        return ans"
   ]
  },
  {
   "cell_type": "code",
   "execution_count": 93,
   "metadata": {
    "cell_id": "00003-26bbe292-c31a-42b1-95c6-ea7368210124",
    "deepnote_cell_type": "code",
    "deepnote_to_be_reexecuted": false,
    "execution_millis": 6,
    "execution_start": 1637413198416,
    "source_hash": "7ec827da",
    "tags": []
   },
   "outputs": [],
   "source": [
    "def run(model, loader, optimizer, criterion, run_type=\"train\"):\n",
    "    if run_type == \"train\":\n",
    "        model.train()\n",
    "    else:\n",
    "        model.eval()\n",
    "    outs = []\n",
    "    lbl = []\n",
    "    model.train()\n",
    "    running_loss = 0\n",
    "    total_iters = len(loader)\n",
    "    iter = 0\n",
    "    if run_type == \"train\":\n",
    "        for (corpus, labels) in tqdm(loader):\n",
    "            corpus = corpus.type(torch.FloatTensor)\n",
    "            corpus = corpus.to(device)\n",
    "            #labels = labels.type(torch.FloatTensor)\n",
    "            labels = labels.to(device)\n",
    "            outputs = model(corpus)\n",
    "            labels = labels.squeeze()\n",
    "            args, preds = torch.max(outputs, dim=1) \n",
    "            loss = F.cross_entropy(outputs, labels)\n",
    "            running_loss += loss\n",
    "            iter += 1\n",
    "            optimizer.zero_grad()\n",
    "            loss.backward()\n",
    "            optimizer.step()\n",
    "            args, ans = torch.max(outputs, dim=1)        \n",
    "            outs.extend(ans.cpu().numpy())\n",
    "            lbl.extend(labels.cpu().detach().numpy().tolist())\n",
    "        mean_loss = running_loss/iter\n",
    "        return outs, lbl, mean_loss\n",
    "    else:\n",
    "        for (corpus, labels) in loader:\n",
    "            corpus = corpus.type(torch.FloatTensor)\n",
    "            corpus = corpus.to(device)\n",
    "            #labels = labels.type(torch.FloatTensor)\n",
    "            labels = labels.to(device)\n",
    "            outputs = model(corpus)\n",
    "            labels = labels.squeeze()\n",
    "            args, preds = torch.max(outputs, dim=1) \n",
    "            print(outputs)\n",
    "            loss = F.cross_entropy(outputs, labels)\n",
    "            running_loss += loss\n",
    "            iter += 1\n",
    "            optimizer.zero_grad()\n",
    "            loss.backward()\n",
    "            optimizer.step()\n",
    "            args, ans = torch.max(outputs, dim=1)        \n",
    "            outs.extend(ans.cpu().numpy())\n",
    "            lbl.extend(labels.cpu().detach().numpy().tolist())\n",
    "        mean_loss = running_loss/iter\n",
    "        return outs, lbl, mean_loss  "
   ]
  },
  {
   "cell_type": "code",
   "execution_count": 85,
   "metadata": {
    "cell_id": "00005-631ec989-805f-451f-9cf9-8f2aaaf11024",
    "deepnote_cell_type": "code",
    "deepnote_to_be_reexecuted": false,
    "execution_millis": 0,
    "execution_start": 1637413164911,
    "source_hash": "9a92abfa",
    "tags": []
   },
   "outputs": [],
   "source": [
    "def output_metrics(val_loader):\n",
    "    optimizer = optim.SGD(model.parameters(), lr=0.001)\n",
    "    criterion = torch.nn.CrossEntropyLoss()\n",
    "    outs,lbl,mean_loss = run(model, val_loader, optimizer, criterion, \"eval\")\n",
    "    return sum(np.array(outs) == np.array(lbl))/len(lbl)\n",
    "def output_match(outs, lbl):\n",
    "    return (sum(np.array(outs) == np.array(lbl))/len(lbl))"
   ]
  },
  {
   "cell_type": "code",
   "execution_count": 89,
   "metadata": {
    "cell_id": "00009-b8be410f-f2d3-48aa-85d5-612d64f6325c",
    "deepnote_cell_type": "code",
    "deepnote_output_heights": [
     null,
     607
    ],
    "deepnote_to_be_reexecuted": false,
    "execution_millis": 84230,
    "execution_start": 1637413206470,
    "source_hash": "776ef1de",
    "tags": []
   },
   "outputs": [
    {
     "data": {
      "application/vnd.jupyter.widget-view+json": {
       "model_id": "d5e6cf310eb04cb2a6bfe2ad188cc961",
       "version_major": 2,
       "version_minor": 0
      },
      "text/plain": [
       "  0%|          | 0/387 [00:00<?, ?it/s]"
      ]
     },
     "metadata": {},
     "output_type": "display_data"
    },
    {
     "name": "stdout",
     "output_type": "stream",
     "text": [
      "Train Accuracy for iter,  0  :  0.847030303030303\n",
      "Val Accuracy for iter,  0  :  0.893090909090909\n",
      "Loss for iter,  0  :  0.3771659731864929\n"
     ]
    },
    {
     "data": {
      "application/vnd.jupyter.widget-view+json": {
       "model_id": "efd683fcf75d4769acda770a99c98b50",
       "version_major": 2,
       "version_minor": 0
      },
      "text/plain": [
       "  0%|          | 0/387 [00:00<?, ?it/s]"
      ]
     },
     "metadata": {},
     "output_type": "display_data"
    },
    {
     "name": "stdout",
     "output_type": "stream",
     "text": [
      "Train Accuracy for iter,  1  :  0.9007474747474747\n",
      "Val Accuracy for iter,  1  :  0.9105454545454545\n",
      "Loss for iter,  1  :  0.26623520255088806\n"
     ]
    },
    {
     "data": {
      "application/vnd.jupyter.widget-view+json": {
       "model_id": "206ef8d1e489453bbf4ed74d0111c9f4",
       "version_major": 2,
       "version_minor": 0
      },
      "text/plain": [
       "  0%|          | 0/387 [00:00<?, ?it/s]"
      ]
     },
     "metadata": {},
     "output_type": "display_data"
    },
    {
     "name": "stdout",
     "output_type": "stream",
     "text": [
      "Train Accuracy for iter,  2  :  0.9134747474747474\n",
      "Val Accuracy for iter,  2  :  0.9118181818181819\n",
      "Loss for iter,  2  :  0.2341262400150299\n"
     ]
    },
    {
     "data": {
      "application/vnd.jupyter.widget-view+json": {
       "model_id": "5066cd3082c84f618089200fa99c0b70",
       "version_major": 2,
       "version_minor": 0
      },
      "text/plain": [
       "  0%|          | 0/387 [00:00<?, ?it/s]"
      ]
     },
     "metadata": {},
     "output_type": "display_data"
    },
    {
     "name": "stdout",
     "output_type": "stream",
     "text": [
      "Train Accuracy for iter,  3  :  0.9175959595959596\n",
      "Val Accuracy for iter,  3  :  0.9109090909090909\n",
      "Loss for iter,  3  :  0.22177128493785858\n"
     ]
    },
    {
     "data": {
      "application/vnd.jupyter.widget-view+json": {
       "model_id": "a2b8c4175d7d49c2928123601f09563f",
       "version_major": 2,
       "version_minor": 0
      },
      "text/plain": [
       "  0%|          | 0/387 [00:00<?, ?it/s]"
      ]
     },
     "metadata": {},
     "output_type": "display_data"
    },
    {
     "name": "stdout",
     "output_type": "stream",
     "text": [
      "Train Accuracy for iter,  4  :  0.9214343434343434\n",
      "Val Accuracy for iter,  4  :  0.9136363636363637\n",
      "Loss for iter,  4  :  0.2166559249162674\n"
     ]
    },
    {
     "data": {
      "application/vnd.jupyter.widget-view+json": {
       "model_id": "db3cad904c7b474288b29581ab4315ca",
       "version_major": 2,
       "version_minor": 0
      },
      "text/plain": [
       "  0%|          | 0/387 [00:00<?, ?it/s]"
      ]
     },
     "metadata": {},
     "output_type": "display_data"
    },
    {
     "name": "stdout",
     "output_type": "stream",
     "text": [
      "Train Accuracy for iter,  5  :  0.9263232323232323\n",
      "Val Accuracy for iter,  5  :  0.9158181818181819\n",
      "Loss for iter,  5  :  0.20242638885974884\n"
     ]
    },
    {
     "data": {
      "application/vnd.jupyter.widget-view+json": {
       "model_id": "7cba0560dace47f089e69a28f96f62c3",
       "version_major": 2,
       "version_minor": 0
      },
      "text/plain": [
       "  0%|          | 0/387 [00:00<?, ?it/s]"
      ]
     },
     "metadata": {},
     "output_type": "display_data"
    },
    {
     "name": "stdout",
     "output_type": "stream",
     "text": [
      "Train Accuracy for iter,  6  :  0.9265656565656566\n",
      "Val Accuracy for iter,  6  :  0.9165454545454546\n",
      "Loss for iter,  6  :  0.1978204846382141\n"
     ]
    },
    {
     "data": {
      "application/vnd.jupyter.widget-view+json": {
       "model_id": "2ed268181db141baa76441ee69ccd88f",
       "version_major": 2,
       "version_minor": 0
      },
      "text/plain": [
       "  0%|          | 0/387 [00:00<?, ?it/s]"
      ]
     },
     "metadata": {},
     "output_type": "display_data"
    },
    {
     "name": "stdout",
     "output_type": "stream",
     "text": [
      "Train Accuracy for iter,  7  :  0.9324848484848485\n",
      "Val Accuracy for iter,  7  :  0.9152727272727272\n",
      "Loss for iter,  7  :  0.18369139730930328\n"
     ]
    },
    {
     "data": {
      "application/vnd.jupyter.widget-view+json": {
       "model_id": "c7330c482b6446818debe27d2c7a1851",
       "version_major": 2,
       "version_minor": 0
      },
      "text/plain": [
       "  0%|          | 0/387 [00:00<?, ?it/s]"
      ]
     },
     "metadata": {},
     "output_type": "display_data"
    },
    {
     "name": "stdout",
     "output_type": "stream",
     "text": [
      "Train Accuracy for iter,  8  :  0.9334747474747475\n",
      "Val Accuracy for iter,  8  :  0.914\n",
      "Loss for iter,  8  :  0.18429367244243622\n"
     ]
    },
    {
     "data": {
      "application/vnd.jupyter.widget-view+json": {
       "model_id": "227b75bc6adb4d58b44ef4366024fc29",
       "version_major": 2,
       "version_minor": 0
      },
      "text/plain": [
       "  0%|          | 0/387 [00:00<?, ?it/s]"
      ]
     },
     "metadata": {},
     "output_type": "display_data"
    },
    {
     "name": "stdout",
     "output_type": "stream",
     "text": [
      "Train Accuracy for iter,  9  :  0.9374343434343434\n",
      "Val Accuracy for iter,  9  :  0.9149090909090909\n",
      "Loss for iter,  9  :  0.1690542995929718\n"
     ]
    }
   ],
   "source": [
    "#model = Model(1014).to(device)\n",
    "model = Model(len(X_train[0]), 2).to(device)\n",
    "optimizer = optim.SGD(model.parameters(), lr=0.01, momentum=0.9)\n",
    "criterion = torch.nn.CrossEntropyLoss()\n",
    "for i in range(0, 10):\n",
    "    outs, lbl, mean_loss = run(model, train_loader, optimizer, criterion)\n",
    "    print(\"Train Accuracy for iter, \",i, \" : \", output_match(outs, lbl))\n",
    "    print(\"Val Accuracy for iter, \",i, \" : \", output_metrics(val_loader))\n",
    "    print(\"Loss for iter, \",i, \" : \", mean_loss.item())"
   ]
  },
  {
   "cell_type": "markdown",
   "metadata": {
    "created_in_deepnote_cell": true,
    "deepnote_cell_type": "markdown",
    "tags": []
   },
   "source": [
    "<a style='text-decoration:none;line-height:16px;display:flex;color:#5B5B62;padding:10px;justify-content:end;' href='https://deepnote.com?utm_source=created-in-deepnote-cell&projectId=f80c269c-dad1-4c63-bf97-6d9868e127ca' target=\"_blank\">\n",
    "<img alt='Created in deepnote.com' style='display:inline;max-height:16px;margin:0px;margin-right:7.5px;' src='data:image/svg+xml;base64,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' > </img>\n",
    "Created in <span style='font-weight:600;margin-left:4px;'>Deepnote</span></a>"
   ]
  },
  {
   "cell_type": "code",
   "execution_count": null,
   "metadata": {},
   "outputs": [],
   "source": []
  }
 ],
 "metadata": {
  "deepnote": {
   "is_reactive": false
  },
  "deepnote_execution_queue": [],
  "deepnote_notebook_id": "d0a61742-fc4a-4583-88b1-cad2139a0eda",
  "kernelspec": {
   "display_name": "Python 3",
   "language": "python",
   "name": "python3"
  },
  "language_info": {
   "codemirror_mode": {
    "name": "ipython",
    "version": 3
   },
   "file_extension": ".py",
   "mimetype": "text/x-python",
   "name": "python",
   "nbconvert_exporter": "python",
   "pygments_lexer": "ipython3",
   "version": "3.8.8"
  }
 },
 "nbformat": 4,
 "nbformat_minor": 2
}
